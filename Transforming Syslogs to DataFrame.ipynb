{
 "cells": [
  {
   "cell_type": "code",
   "execution_count": 1,
   "id": "f645d2c9",
   "metadata": {},
   "outputs": [
    {
     "name": "stdout",
     "output_type": "stream",
     "text": [
      "[['RP/0/RSP0/CPU0', 'Mar 31 13', '06', '23.499 UTC', ' bgp[1087]', ' %ROUTING-BGP-5-MAXPFX ', ' No. of IPv4 Unicast prefixes received from 41.75.94.177 has reached 918201, max 1048576 '], ['RP/0/RSP0/CPU0', 'Mar 31 13', '06', '27.517 UTC', ' bgp[1087]', ' %ROUTING-BGP-5-MAXPFX ', ' No. of IPv4 Unicast prefixes received from 41.75.94.147 has reached 918200, max 1048576 '], ['RP/0/RSP0/CPU0', 'Mar 31 13', '06', '53.752 UTC', ' bgp[1087]', ' %ROUTING-BGP-5-MAXPFX ', ' No. of IPv4 Unicast prefixes received from 41.75.94.177 has reached 918190, max 1048576']]\n"
     ]
    }
   ],
   "source": [
    "text = '''RP/0/RSP0/CPU0:Mar 31 13:06:23.499 UTC: bgp[1087]: %ROUTING-BGP-5-MAXPFX : No. of IPv4 Unicast prefixes received from 41.75.94.177 has reached 918201, max 1048576 \n",
    "RP/0/RSP0/CPU0:Mar 31 13:06:27.517 UTC: bgp[1087]: %ROUTING-BGP-5-MAXPFX : No. of IPv4 Unicast prefixes received from 41.75.94.147 has reached 918200, max 1048576 \n",
    "RP/0/RSP0/CPU0:Mar 31 13:06:53.752 UTC: bgp[1087]: %ROUTING-BGP-5-MAXPFX : No. of IPv4 Unicast prefixes received from 41.75.94.177 has reached 918190, max 1048576'''\n",
    "\n",
    "table = []\n",
    "for line in text.split(\"\\n\"):\n",
    "    row = line.split(\":\")\n",
    "    table.append(row)\n",
    "    \n",
    "print(table)"
   ]
  },
  {
   "cell_type": "code",
   "execution_count": 2,
   "id": "f30171f2",
   "metadata": {},
   "outputs": [
    {
     "name": "stdout",
     "output_type": "stream",
     "text": [
      "   prefix_number          prefix                 date        BGP  \\\n",
      "0              1  RP/0/RSP0/CPU0  Mar 31 13:06:23.499  bgp[1087]   \n",
      "1              2  RP/0/RSP0/CPU0  Mar 31 13:06:27.517  bgp[1087]   \n",
      "2              3  RP/0/RSP0/CPU0  Mar 31 13:06:53.752  bgp[1087]   \n",
      "\n",
      "                  Routing                                            message  \\\n",
      "0  %ROUTING-BGP-5-MAXPFX   No. of IPv4 Unicast prefixes received from 41....   \n",
      "1  %ROUTING-BGP-5-MAXPFX   No. of IPv4 Unicast prefixes received from 41....   \n",
      "2  %ROUTING-BGP-5-MAXPFX   No. of IPv4 Unicast prefixes received from 41....   \n",
      "\n",
      "         max  \n",
      "0   1048576   \n",
      "1   1048576   \n",
      "2    1048576  \n"
     ]
    }
   ],
   "source": [
    "import pandas as pd\n",
    "\n",
    "text = \"\"\"\n",
    "RP/0/RSP0/CPU0: Mar 31 13:06:23.499 UTC: bgp[1087]: %ROUTING-BGP-5-MAXPFX : No. of IPv4 Unicast prefixes received from 41.75.94.177 has reached 918201, max 1048576 \n",
    "RP/0/RSP0/CPU0: Mar 31 13:06:27.517 UTC: bgp[1087]: %ROUTING-BGP-5-MAXPFX : No. of IPv4 Unicast prefixes received from 41.75.94.147 has reached 918200, max 1048576 \n",
    "RP/0/RSP0/CPU0: Mar 31 13:06:53.752 UTC: bgp[1087]: %ROUTING-BGP-5-MAXPFX : No. of IPv4 Unicast prefixes received from 41.75.94.177 has reached 918190, max 1048576 \n",
    "\"\"\"\n",
    "\n",
    "# split the text into rows\n",
    "rows = text.strip().split('\\n')\n",
    "\n",
    "# split each row into columns using \": \" as the separator\n",
    "columns = [row.split(\": \") for row in rows]\n",
    "\n",
    "# create a dataframe from the columns\n",
    "df = pd.DataFrame(columns, columns=[\"prefix\", \"date\", \"BGP\", \"Routing\", \"message\"])\n",
    "\n",
    "# remove unwanted columns from the date column\n",
    "df['date'] = df['date'].str.replace(' UTC', '')\n",
    "\n",
    "# separate the message column into two columns using \", max\" as the separator\n",
    "df[['message', 'max']] = df['message'].str.split(', max', expand=True)\n",
    "\n",
    "# add a prefix number column\n",
    "df.insert(0, 'prefix_number', df.index + 1)\n",
    "\n",
    "print(df)\n"
   ]
  },
  {
   "cell_type": "code",
   "execution_count": 3,
   "id": "d8f963c8",
   "metadata": {},
   "outputs": [
    {
     "data": {
      "text/plain": [
       "0    Mar 31 13:06:23.499\n",
       "1    Mar 31 13:06:27.517\n",
       "2    Mar 31 13:06:53.752\n",
       "Name: date, dtype: object"
      ]
     },
     "execution_count": 3,
     "metadata": {},
     "output_type": "execute_result"
    }
   ],
   "source": [
    "df.date"
   ]
  },
  {
   "cell_type": "code",
   "execution_count": 4,
   "id": "f83c1667",
   "metadata": {},
   "outputs": [
    {
     "data": {
      "text/plain": [
       "0    RP/0/RSP0/CPU0\n",
       "1    RP/0/RSP0/CPU0\n",
       "2    RP/0/RSP0/CPU0\n",
       "Name: prefix, dtype: object"
      ]
     },
     "execution_count": 4,
     "metadata": {},
     "output_type": "execute_result"
    }
   ],
   "source": [
    "df.prefix"
   ]
  },
  {
   "cell_type": "code",
   "execution_count": 5,
   "id": "843d6f59",
   "metadata": {},
   "outputs": [
    {
     "data": {
      "text/plain": [
       "0    No. of IPv4 Unicast prefixes received from 41....\n",
       "1    No. of IPv4 Unicast prefixes received from 41....\n",
       "2    No. of IPv4 Unicast prefixes received from 41....\n",
       "Name: message, dtype: object"
      ]
     },
     "execution_count": 5,
     "metadata": {},
     "output_type": "execute_result"
    }
   ],
   "source": [
    "df.message"
   ]
  },
  {
   "cell_type": "code",
   "execution_count": 7,
   "id": "4fa74686",
   "metadata": {},
   "outputs": [
    {
     "data": {
      "text/html": [
       "<div>\n",
       "<style scoped>\n",
       "    .dataframe tbody tr th:only-of-type {\n",
       "        vertical-align: middle;\n",
       "    }\n",
       "\n",
       "    .dataframe tbody tr th {\n",
       "        vertical-align: top;\n",
       "    }\n",
       "\n",
       "    .dataframe thead th {\n",
       "        text-align: right;\n",
       "    }\n",
       "</style>\n",
       "<table border=\"1\" class=\"dataframe\">\n",
       "  <thead>\n",
       "    <tr style=\"text-align: right;\">\n",
       "      <th></th>\n",
       "      <th>prefix_number</th>\n",
       "      <th>prefix</th>\n",
       "      <th>date</th>\n",
       "      <th>BGP</th>\n",
       "      <th>Routing</th>\n",
       "      <th>message</th>\n",
       "      <th>max</th>\n",
       "    </tr>\n",
       "  </thead>\n",
       "  <tbody>\n",
       "    <tr>\n",
       "      <th>0</th>\n",
       "      <td>1</td>\n",
       "      <td>RP/0/RSP0/CPU0</td>\n",
       "      <td>Mar 31 13:06:23.499</td>\n",
       "      <td>bgp[1087]</td>\n",
       "      <td>%ROUTING-BGP-5-MAXPFX</td>\n",
       "      <td>No. of IPv4 Unicast prefixes received from 41....</td>\n",
       "      <td>1048576</td>\n",
       "    </tr>\n",
       "    <tr>\n",
       "      <th>1</th>\n",
       "      <td>2</td>\n",
       "      <td>RP/0/RSP0/CPU0</td>\n",
       "      <td>Mar 31 13:06:27.517</td>\n",
       "      <td>bgp[1087]</td>\n",
       "      <td>%ROUTING-BGP-5-MAXPFX</td>\n",
       "      <td>No. of IPv4 Unicast prefixes received from 41....</td>\n",
       "      <td>1048576</td>\n",
       "    </tr>\n",
       "    <tr>\n",
       "      <th>2</th>\n",
       "      <td>3</td>\n",
       "      <td>RP/0/RSP0/CPU0</td>\n",
       "      <td>Mar 31 13:06:53.752</td>\n",
       "      <td>bgp[1087]</td>\n",
       "      <td>%ROUTING-BGP-5-MAXPFX</td>\n",
       "      <td>No. of IPv4 Unicast prefixes received from 41....</td>\n",
       "      <td>1048576</td>\n",
       "    </tr>\n",
       "  </tbody>\n",
       "</table>\n",
       "</div>"
      ],
      "text/plain": [
       "   prefix_number          prefix                 date        BGP  \\\n",
       "0              1  RP/0/RSP0/CPU0  Mar 31 13:06:23.499  bgp[1087]   \n",
       "1              2  RP/0/RSP0/CPU0  Mar 31 13:06:27.517  bgp[1087]   \n",
       "2              3  RP/0/RSP0/CPU0  Mar 31 13:06:53.752  bgp[1087]   \n",
       "\n",
       "                  Routing                                            message  \\\n",
       "0  %ROUTING-BGP-5-MAXPFX   No. of IPv4 Unicast prefixes received from 41....   \n",
       "1  %ROUTING-BGP-5-MAXPFX   No. of IPv4 Unicast prefixes received from 41....   \n",
       "2  %ROUTING-BGP-5-MAXPFX   No. of IPv4 Unicast prefixes received from 41....   \n",
       "\n",
       "         max  \n",
       "0   1048576   \n",
       "1   1048576   \n",
       "2    1048576  "
      ]
     },
     "execution_count": 7,
     "metadata": {},
     "output_type": "execute_result"
    }
   ],
   "source": [
    "df.head()"
   ]
  },
  {
   "cell_type": "code",
   "execution_count": 8,
   "id": "f960c670",
   "metadata": {},
   "outputs": [
    {
     "name": "stdout",
     "output_type": "stream",
     "text": [
      "<class 'pandas.core.frame.DataFrame'>\n",
      "RangeIndex: 3 entries, 0 to 2\n",
      "Data columns (total 7 columns):\n",
      " #   Column         Non-Null Count  Dtype \n",
      "---  ------         --------------  ----- \n",
      " 0   prefix_number  3 non-null      int64 \n",
      " 1   prefix         3 non-null      object\n",
      " 2   date           3 non-null      object\n",
      " 3   BGP            3 non-null      object\n",
      " 4   Routing        3 non-null      object\n",
      " 5   message        3 non-null      object\n",
      " 6   max            3 non-null      object\n",
      "dtypes: int64(1), object(6)\n",
      "memory usage: 296.0+ bytes\n"
     ]
    }
   ],
   "source": [
    "df.info()"
   ]
  },
  {
   "cell_type": "code",
   "execution_count": null,
   "id": "8040913e",
   "metadata": {},
   "outputs": [],
   "source": []
  }
 ],
 "metadata": {
  "kernelspec": {
   "display_name": "Python 3 (ipykernel)",
   "language": "python",
   "name": "python3"
  },
  "language_info": {
   "codemirror_mode": {
    "name": "ipython",
    "version": 3
   },
   "file_extension": ".py",
   "mimetype": "text/x-python",
   "name": "python",
   "nbconvert_exporter": "python",
   "pygments_lexer": "ipython3",
   "version": "3.10.9"
  }
 },
 "nbformat": 4,
 "nbformat_minor": 5
}
